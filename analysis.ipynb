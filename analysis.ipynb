{
 "cells": [
  {
   "cell_type": "markdown",
   "metadata": {},
   "source": [
    "**NOTEBOOK FOR ANALYSIS**"
   ]
  },
  {
   "cell_type": "code",
   "execution_count": 68,
   "metadata": {},
   "outputs": [],
   "source": [
    "import pandas as pd\n",
    "import warnings\n",
    "import rich\n",
    "\n",
    "warnings.filterwarnings(\"ignore\")\n",
    "\n",
    "# Load the dataset\n",
    "df = pd.read_csv('2023-2024/best5leagues_datasetplayers.csv')"
   ]
  },
  {
   "cell_type": "code",
   "execution_count": 69,
   "metadata": {},
   "outputs": [
    {
     "data": {
      "text/plain": [
       "Index(['Player', 'Nation', 'Squad', 'Age', 'Born', '90s', 'SCA SCA',\n",
       "       'SCA SCA90', 'SCA Types PassLive', 'SCA Types PassDead', 'SCA Types TO',\n",
       "       'SCA Types Sh', 'SCA Types Fld', 'SCA Types Def', 'GCA GCA',\n",
       "       'GCA GCA90', 'GCA Types PassLive', 'GCA Types PassDead', 'GCA Types TO',\n",
       "       'GCA Types Sh', 'GCA Types Fld', 'GCA Types Def', 'Position_2',\n",
       "       'Position', 'League'],\n",
       "      dtype='object')"
      ]
     },
     "execution_count": 69,
     "metadata": {},
     "output_type": "execute_result"
    }
   ],
   "source": [
    "df.keys()"
   ]
  },
  {
   "cell_type": "code",
   "execution_count": 70,
   "metadata": {},
   "outputs": [],
   "source": [
    "#Isolate for players who played at least 12 matches\n",
    "\n",
    "df['90s'] = pd.to_numeric(df['90s'], errors='coerce')\n",
    "matches = 12.0\n",
    "filtered_df = df[df['90s'] >= matches] "
   ]
  },
  {
   "cell_type": "code",
   "execution_count": 71,
   "metadata": {},
   "outputs": [],
   "source": [
    "top_players = {}\n",
    "\n",
    "# List of statistics columns to evaluate\n",
    "stats_columns = ['SCA SCA90', 'GCA GCA90', 'SCA Types PassLive', 'GCA Types PassLive', 'GCA Types Def']\n",
    "\n",
    "for col in stats_columns:\n",
    "    filtered_df[col] = pd.to_numeric(filtered_df[col], errors='coerce')\n",
    "\n",
    "for stat in stats_columns:\n",
    "    top_players[stat] = filtered_df.nlargest(5, stat)[['Player', stat]]\n"
   ]
  },
  {
   "cell_type": "code",
   "execution_count": 72,
   "metadata": {},
   "outputs": [
    {
     "data": {
      "text/html": [
       "<pre style=\"white-space:pre;overflow-x:auto;line-height:normal;font-family:Menlo,'DejaVu Sans Mono',consolas,'Courier New',monospace\">Top <span style=\"color: #008080; text-decoration-color: #008080; font-weight: bold\">5</span> players for SCA SCA90:\n",
       "</pre>\n"
      ],
      "text/plain": [
       "Top \u001b[1;36m5\u001b[0m players for SCA SCA90:\n"
      ]
     },
     "metadata": {},
     "output_type": "display_data"
    },
    {
     "data": {
      "text/html": [
       "<pre style=\"white-space:pre;overflow-x:auto;line-height:normal;font-family:Menlo,'DejaVu Sans Mono',consolas,'Courier New',monospace\">               Player  SCA SCA90\n",
       "<span style=\"color: #008080; text-decoration-color: #008080; font-weight: bold\">2611</span>     Kevin Stöger       <span style=\"color: #008080; text-decoration-color: #008080; font-weight: bold\">7.79</span>\n",
       "<span style=\"color: #008080; text-decoration-color: #008080; font-weight: bold\">681</span>   Kevin De Bruyne       <span style=\"color: #008080; text-decoration-color: #008080; font-weight: bold\">7.36</span>\n",
       "<span style=\"color: #008080; text-decoration-color: #008080; font-weight: bold\">697</span>   Ousmane Dembélé       <span style=\"color: #008080; text-decoration-color: #008080; font-weight: bold\">7.05</span>\n",
       "<span style=\"color: #008080; text-decoration-color: #008080; font-weight: bold\">1613</span>   James Maddison       <span style=\"color: #008080; text-decoration-color: #008080; font-weight: bold\">6.79</span>\n",
       "<span style=\"color: #008080; text-decoration-color: #008080; font-weight: bold\">1192</span>    Jonas Hofmann       <span style=\"color: #008080; text-decoration-color: #008080; font-weight: bold\">6.42</span>\n",
       "</pre>\n"
      ],
      "text/plain": [
       "               Player  SCA SCA90\n",
       "\u001b[1;36m2611\u001b[0m     Kevin Stöger       \u001b[1;36m7.79\u001b[0m\n",
       "\u001b[1;36m681\u001b[0m   Kevin De Bruyne       \u001b[1;36m7.36\u001b[0m\n",
       "\u001b[1;36m697\u001b[0m   Ousmane Dembélé       \u001b[1;36m7.05\u001b[0m\n",
       "\u001b[1;36m1613\u001b[0m   James Maddison       \u001b[1;36m6.79\u001b[0m\n",
       "\u001b[1;36m1192\u001b[0m    Jonas Hofmann       \u001b[1;36m6.42\u001b[0m\n"
      ]
     },
     "metadata": {},
     "output_type": "display_data"
    },
    {
     "name": "stdout",
     "output_type": "stream",
     "text": [
      "\n",
      "\n"
     ]
    },
    {
     "data": {
      "text/html": [
       "<pre style=\"white-space:pre;overflow-x:auto;line-height:normal;font-family:Menlo,'DejaVu Sans Mono',consolas,'Courier New',monospace\">Top <span style=\"color: #008080; text-decoration-color: #008080; font-weight: bold\">5</span> players for GCA GCA90:\n",
       "</pre>\n"
      ],
      "text/plain": [
       "Top \u001b[1;36m5\u001b[0m players for GCA GCA90:\n"
      ]
     },
     "metadata": {},
     "output_type": "display_data"
    },
    {
     "data": {
      "text/html": [
       "<pre style=\"white-space:pre;overflow-x:auto;line-height:normal;font-family:Menlo,'DejaVu Sans Mono',consolas,'Courier New',monospace\">               Player  GCA GCA90\n",
       "<span style=\"color: #008080; text-decoration-color: #008080; font-weight: bold\">681</span>   Kevin De Bruyne       <span style=\"color: #008080; text-decoration-color: #008080; font-weight: bold\">1.18</span>\n",
       "<span style=\"color: #008080; text-decoration-color: #008080; font-weight: bold\">697</span>   Ousmane Dembélé       <span style=\"color: #008080; text-decoration-color: #008080; font-weight: bold\">1.14</span>\n",
       "<span style=\"color: #008080; text-decoration-color: #008080; font-weight: bold\">1302</span>       Diogo Jota       <span style=\"color: #008080; text-decoration-color: #008080; font-weight: bold\">1.10</span>\n",
       "<span style=\"color: #008080; text-decoration-color: #008080; font-weight: bold\">734</span>       Brahim Díaz       <span style=\"color: #008080; text-decoration-color: #008080; font-weight: bold\">1.05</span>\n",
       "<span style=\"color: #008080; text-decoration-color: #008080; font-weight: bold\">2042</span>    Michael Olise       <span style=\"color: #008080; text-decoration-color: #008080; font-weight: bold\">0.99</span>\n",
       "</pre>\n"
      ],
      "text/plain": [
       "               Player  GCA GCA90\n",
       "\u001b[1;36m681\u001b[0m   Kevin De Bruyne       \u001b[1;36m1.18\u001b[0m\n",
       "\u001b[1;36m697\u001b[0m   Ousmane Dembélé       \u001b[1;36m1.14\u001b[0m\n",
       "\u001b[1;36m1302\u001b[0m       Diogo Jota       \u001b[1;36m1.10\u001b[0m\n",
       "\u001b[1;36m734\u001b[0m       Brahim Díaz       \u001b[1;36m1.05\u001b[0m\n",
       "\u001b[1;36m2042\u001b[0m    Michael Olise       \u001b[1;36m0.99\u001b[0m\n"
      ]
     },
     "metadata": {},
     "output_type": "display_data"
    },
    {
     "name": "stdout",
     "output_type": "stream",
     "text": [
      "\n",
      "\n"
     ]
    },
    {
     "data": {
      "text/html": [
       "<pre style=\"white-space:pre;overflow-x:auto;line-height:normal;font-family:Menlo,'DejaVu Sans Mono',consolas,'Courier New',monospace\">Top <span style=\"color: #008080; text-decoration-color: #008080; font-weight: bold\">5</span> players for SCA Types PassLive:\n",
       "</pre>\n"
      ],
      "text/plain": [
       "Top \u001b[1;36m5\u001b[0m players for SCA Types PassLive:\n"
      ]
     },
     "metadata": {},
     "output_type": "display_data"
    },
    {
     "data": {
      "text/html": [
       "<pre style=\"white-space:pre;overflow-x:auto;line-height:normal;font-family:Menlo,'DejaVu Sans Mono',consolas,'Courier New',monospace\">               Player  SCA Types PassLive\n",
       "<span style=\"color: #008080; text-decoration-color: #008080; font-weight: bold\">2962</span>  Martin Ødegaard                 <span style=\"color: #008080; text-decoration-color: #008080; font-weight: bold\">178</span>\n",
       "<span style=\"color: #008080; text-decoration-color: #008080; font-weight: bold\">895</span>   Bruno Fernandes                 <span style=\"color: #008080; text-decoration-color: #008080; font-weight: bold\">143</span>\n",
       "<span style=\"color: #008080; text-decoration-color: #008080; font-weight: bold\">2404</span>      Bukayo Saka                 <span style=\"color: #008080; text-decoration-color: #008080; font-weight: bold\">137</span>\n",
       "<span style=\"color: #008080; text-decoration-color: #008080; font-weight: bold\">2611</span>     Kevin Stöger                 <span style=\"color: #008080; text-decoration-color: #008080; font-weight: bold\">131</span>\n",
       "<span style=\"color: #008080; text-decoration-color: #008080; font-weight: bold\">2341</span>            Rodri                 <span style=\"color: #008080; text-decoration-color: #008080; font-weight: bold\">130</span>\n",
       "</pre>\n"
      ],
      "text/plain": [
       "               Player  SCA Types PassLive\n",
       "\u001b[1;36m2962\u001b[0m  Martin Ødegaard                 \u001b[1;36m178\u001b[0m\n",
       "\u001b[1;36m895\u001b[0m   Bruno Fernandes                 \u001b[1;36m143\u001b[0m\n",
       "\u001b[1;36m2404\u001b[0m      Bukayo Saka                 \u001b[1;36m137\u001b[0m\n",
       "\u001b[1;36m2611\u001b[0m     Kevin Stöger                 \u001b[1;36m131\u001b[0m\n",
       "\u001b[1;36m2341\u001b[0m            Rodri                 \u001b[1;36m130\u001b[0m\n"
      ]
     },
     "metadata": {},
     "output_type": "display_data"
    },
    {
     "name": "stdout",
     "output_type": "stream",
     "text": [
      "\n",
      "\n"
     ]
    },
    {
     "data": {
      "text/html": [
       "<pre style=\"white-space:pre;overflow-x:auto;line-height:normal;font-family:Menlo,'DejaVu Sans Mono',consolas,'Courier New',monospace\">Top <span style=\"color: #008080; text-decoration-color: #008080; font-weight: bold\">5</span> players for GCA Types PassLive:\n",
       "</pre>\n"
      ],
      "text/plain": [
       "Top \u001b[1;36m5\u001b[0m players for GCA Types PassLive:\n"
      ]
     },
     "metadata": {},
     "output_type": "display_data"
    },
    {
     "data": {
      "text/html": [
       "<pre style=\"white-space:pre;overflow-x:auto;line-height:normal;font-family:Menlo,'DejaVu Sans Mono',consolas,'Courier New',monospace\">               Player  GCA Types PassLive\n",
       "<span style=\"color: #008080; text-decoration-color: #008080; font-weight: bold\">2107</span>      Cole Palmer                  <span style=\"color: #008080; text-decoration-color: #008080; font-weight: bold\">20</span>\n",
       "<span style=\"color: #008080; text-decoration-color: #008080; font-weight: bold\">2461</span>            Sávio                  <span style=\"color: #008080; text-decoration-color: #008080; font-weight: bold\">19</span>\n",
       "<span style=\"color: #008080; text-decoration-color: #008080; font-weight: bold\">2887</span>    Florian Wirtz                  <span style=\"color: #008080; text-decoration-color: #008080; font-weight: bold\">18</span>\n",
       "<span style=\"color: #008080; text-decoration-color: #008080; font-weight: bold\">2962</span>  Martin Ødegaard                  <span style=\"color: #008080; text-decoration-color: #008080; font-weight: bold\">18</span>\n",
       "<span style=\"color: #008080; text-decoration-color: #008080; font-weight: bold\">1506</span>      Rafael Leão                  <span style=\"color: #008080; text-decoration-color: #008080; font-weight: bold\">17</span>\n",
       "</pre>\n"
      ],
      "text/plain": [
       "               Player  GCA Types PassLive\n",
       "\u001b[1;36m2107\u001b[0m      Cole Palmer                  \u001b[1;36m20\u001b[0m\n",
       "\u001b[1;36m2461\u001b[0m            Sávio                  \u001b[1;36m19\u001b[0m\n",
       "\u001b[1;36m2887\u001b[0m    Florian Wirtz                  \u001b[1;36m18\u001b[0m\n",
       "\u001b[1;36m2962\u001b[0m  Martin Ødegaard                  \u001b[1;36m18\u001b[0m\n",
       "\u001b[1;36m1506\u001b[0m      Rafael Leão                  \u001b[1;36m17\u001b[0m\n"
      ]
     },
     "metadata": {},
     "output_type": "display_data"
    },
    {
     "name": "stdout",
     "output_type": "stream",
     "text": [
      "\n",
      "\n"
     ]
    },
    {
     "data": {
      "text/html": [
       "<pre style=\"white-space:pre;overflow-x:auto;line-height:normal;font-family:Menlo,'DejaVu Sans Mono',consolas,'Courier New',monospace\">Top <span style=\"color: #008080; text-decoration-color: #008080; font-weight: bold\">5</span> players for GCA Types Def:\n",
       "</pre>\n"
      ],
      "text/plain": [
       "Top \u001b[1;36m5\u001b[0m players for GCA Types Def:\n"
      ]
     },
     "metadata": {},
     "output_type": "display_data"
    },
    {
     "data": {
      "text/html": [
       "<pre style=\"white-space:pre;overflow-x:auto;line-height:normal;font-family:Menlo,'DejaVu Sans Mono',consolas,'Courier New',monospace\">                 Player  GCA Types Def\n",
       "<span style=\"color: #008080; text-decoration-color: #008080; font-weight: bold\">1707</span>   Lautaro Martínez              <span style=\"color: #008080; text-decoration-color: #008080; font-weight: bold\">3</span>\n",
       "<span style=\"color: #008080; text-decoration-color: #008080; font-weight: bold\">57</span>    Maghnes Akliouche              <span style=\"color: #008080; text-decoration-color: #008080; font-weight: bold\">2</span>\n",
       "<span style=\"color: #008080; text-decoration-color: #008080; font-weight: bold\">121</span>              Antony              <span style=\"color: #008080; text-decoration-color: #008080; font-weight: bold\">2</span>\n",
       "<span style=\"color: #008080; text-decoration-color: #008080; font-weight: bold\">850</span>   Youssef En-Nesyri              <span style=\"color: #008080; text-decoration-color: #008080; font-weight: bold\">2</span>\n",
       "<span style=\"color: #008080; text-decoration-color: #008080; font-weight: bold\">991</span>        James Garner              <span style=\"color: #008080; text-decoration-color: #008080; font-weight: bold\">2</span>\n",
       "</pre>\n"
      ],
      "text/plain": [
       "                 Player  GCA Types Def\n",
       "\u001b[1;36m1707\u001b[0m   Lautaro Martínez              \u001b[1;36m3\u001b[0m\n",
       "\u001b[1;36m57\u001b[0m    Maghnes Akliouche              \u001b[1;36m2\u001b[0m\n",
       "\u001b[1;36m121\u001b[0m              Antony              \u001b[1;36m2\u001b[0m\n",
       "\u001b[1;36m850\u001b[0m   Youssef En-Nesyri              \u001b[1;36m2\u001b[0m\n",
       "\u001b[1;36m991\u001b[0m        James Garner              \u001b[1;36m2\u001b[0m\n"
      ]
     },
     "metadata": {},
     "output_type": "display_data"
    },
    {
     "name": "stdout",
     "output_type": "stream",
     "text": [
      "\n",
      "\n"
     ]
    }
   ],
   "source": [
    "for stat, players in top_players.items():\n",
    "    rich.print(f\"Top 5 players for {stat}:\")\n",
    "    rich.print(players)\n",
    "    print(\"\\n\")"
   ]
  },
  {
   "cell_type": "markdown",
   "metadata": {},
   "source": [
    "**Aggregated Analysis for top 5 Championships**"
   ]
  },
  {
   "cell_type": "code",
   "execution_count": 73,
   "metadata": {},
   "outputs": [
    {
     "data": {
      "text/html": [
       "<div>\n",
       "<style scoped>\n",
       "    .dataframe tbody tr th:only-of-type {\n",
       "        vertical-align: middle;\n",
       "    }\n",
       "\n",
       "    .dataframe tbody tr th {\n",
       "        vertical-align: top;\n",
       "    }\n",
       "\n",
       "    .dataframe thead th {\n",
       "        text-align: right;\n",
       "    }\n",
       "</style>\n",
       "<table border=\"1\" class=\"dataframe\">\n",
       "  <thead>\n",
       "    <tr style=\"text-align: right;\">\n",
       "      <th></th>\n",
       "      <th>Player</th>\n",
       "      <th>Nation</th>\n",
       "      <th>Pos</th>\n",
       "      <th>Age</th>\n",
       "      <th>Playing Time MP</th>\n",
       "      <th>Playing Time Starts</th>\n",
       "      <th>Playing Time Min</th>\n",
       "      <th>Playing Time 90s</th>\n",
       "      <th>Performance Gls</th>\n",
       "      <th>Performance Ast</th>\n",
       "      <th>...</th>\n",
       "      <th>Per 90 Minutes G+A-PK</th>\n",
       "      <th>Per 90 Minutes xG</th>\n",
       "      <th>Per 90 Minutes xAG</th>\n",
       "      <th>Per 90 Minutes xG+xAG</th>\n",
       "      <th>Per 90 Minutes npxG</th>\n",
       "      <th>Per 90 Minutes npxG+xAG</th>\n",
       "      <th>Matches</th>\n",
       "      <th>League</th>\n",
       "      <th>Team</th>\n",
       "      <th>MP</th>\n",
       "    </tr>\n",
       "  </thead>\n",
       "  <tbody>\n",
       "    <tr>\n",
       "      <th>0</th>\n",
       "      <td>William Saliba</td>\n",
       "      <td>fr FRA</td>\n",
       "      <td>DF</td>\n",
       "      <td>22.0</td>\n",
       "      <td>38.0</td>\n",
       "      <td>38</td>\n",
       "      <td>3420.0</td>\n",
       "      <td>38.0</td>\n",
       "      <td>2.0</td>\n",
       "      <td>1.0</td>\n",
       "      <td>...</td>\n",
       "      <td>0.08</td>\n",
       "      <td>0.04</td>\n",
       "      <td>0.01</td>\n",
       "      <td>0.05</td>\n",
       "      <td>0.04</td>\n",
       "      <td>0.05</td>\n",
       "      <td>Matches</td>\n",
       "      <td>EPL</td>\n",
       "      <td>Arsenal</td>\n",
       "      <td>NaN</td>\n",
       "    </tr>\n",
       "    <tr>\n",
       "      <th>1</th>\n",
       "      <td>Declan Rice</td>\n",
       "      <td>eng ENG</td>\n",
       "      <td>MF</td>\n",
       "      <td>24.0</td>\n",
       "      <td>38.0</td>\n",
       "      <td>37</td>\n",
       "      <td>3225.0</td>\n",
       "      <td>35.8</td>\n",
       "      <td>7.0</td>\n",
       "      <td>8.0</td>\n",
       "      <td>...</td>\n",
       "      <td>0.42</td>\n",
       "      <td>0.09</td>\n",
       "      <td>0.15</td>\n",
       "      <td>0.24</td>\n",
       "      <td>0.09</td>\n",
       "      <td>0.24</td>\n",
       "      <td>Matches</td>\n",
       "      <td>EPL</td>\n",
       "      <td>Arsenal</td>\n",
       "      <td>NaN</td>\n",
       "    </tr>\n",
       "    <tr>\n",
       "      <th>2</th>\n",
       "      <td>Martin Ødegaard</td>\n",
       "      <td>no NOR</td>\n",
       "      <td>MF</td>\n",
       "      <td>24.0</td>\n",
       "      <td>35.0</td>\n",
       "      <td>35</td>\n",
       "      <td>3091.0</td>\n",
       "      <td>34.3</td>\n",
       "      <td>8.0</td>\n",
       "      <td>10.0</td>\n",
       "      <td>...</td>\n",
       "      <td>0.47</td>\n",
       "      <td>0.22</td>\n",
       "      <td>0.28</td>\n",
       "      <td>0.50</td>\n",
       "      <td>0.17</td>\n",
       "      <td>0.45</td>\n",
       "      <td>Matches</td>\n",
       "      <td>EPL</td>\n",
       "      <td>Arsenal</td>\n",
       "      <td>NaN</td>\n",
       "    </tr>\n",
       "    <tr>\n",
       "      <th>3</th>\n",
       "      <td>Ben White</td>\n",
       "      <td>eng ENG</td>\n",
       "      <td>DF</td>\n",
       "      <td>25.0</td>\n",
       "      <td>37.0</td>\n",
       "      <td>35</td>\n",
       "      <td>2988.0</td>\n",
       "      <td>33.2</td>\n",
       "      <td>4.0</td>\n",
       "      <td>4.0</td>\n",
       "      <td>...</td>\n",
       "      <td>0.24</td>\n",
       "      <td>0.03</td>\n",
       "      <td>0.11</td>\n",
       "      <td>0.15</td>\n",
       "      <td>0.03</td>\n",
       "      <td>0.15</td>\n",
       "      <td>Matches</td>\n",
       "      <td>EPL</td>\n",
       "      <td>Arsenal</td>\n",
       "      <td>NaN</td>\n",
       "    </tr>\n",
       "    <tr>\n",
       "      <th>4</th>\n",
       "      <td>Bukayo Saka</td>\n",
       "      <td>eng ENG</td>\n",
       "      <td>FW</td>\n",
       "      <td>21.0</td>\n",
       "      <td>35.0</td>\n",
       "      <td>35</td>\n",
       "      <td>2919.0</td>\n",
       "      <td>32.4</td>\n",
       "      <td>16.0</td>\n",
       "      <td>9.0</td>\n",
       "      <td>...</td>\n",
       "      <td>0.59</td>\n",
       "      <td>0.48</td>\n",
       "      <td>0.32</td>\n",
       "      <td>0.80</td>\n",
       "      <td>0.33</td>\n",
       "      <td>0.65</td>\n",
       "      <td>Matches</td>\n",
       "      <td>EPL</td>\n",
       "      <td>Arsenal</td>\n",
       "      <td>NaN</td>\n",
       "    </tr>\n",
       "  </tbody>\n",
       "</table>\n",
       "<p>5 rows × 37 columns</p>\n",
       "</div>"
      ],
      "text/plain": [
       "            Player   Nation Pos   Age  Playing Time MP  Playing Time Starts  \\\n",
       "0   William Saliba   fr FRA  DF  22.0             38.0                   38   \n",
       "1      Declan Rice  eng ENG  MF  24.0             38.0                   37   \n",
       "2  Martin Ødegaard   no NOR  MF  24.0             35.0                   35   \n",
       "3        Ben White  eng ENG  DF  25.0             37.0                   35   \n",
       "4      Bukayo Saka  eng ENG  FW  21.0             35.0                   35   \n",
       "\n",
       "   Playing Time Min  Playing Time 90s  Performance Gls  Performance Ast  ...  \\\n",
       "0            3420.0              38.0              2.0              1.0  ...   \n",
       "1            3225.0              35.8              7.0              8.0  ...   \n",
       "2            3091.0              34.3              8.0             10.0  ...   \n",
       "3            2988.0              33.2              4.0              4.0  ...   \n",
       "4            2919.0              32.4             16.0              9.0  ...   \n",
       "\n",
       "   Per 90 Minutes G+A-PK  Per 90 Minutes xG  Per 90 Minutes xAG  \\\n",
       "0                   0.08               0.04                0.01   \n",
       "1                   0.42               0.09                0.15   \n",
       "2                   0.47               0.22                0.28   \n",
       "3                   0.24               0.03                0.11   \n",
       "4                   0.59               0.48                0.32   \n",
       "\n",
       "   Per 90 Minutes xG+xAG  Per 90 Minutes npxG  Per 90 Minutes npxG+xAG  \\\n",
       "0                   0.05                 0.04                     0.05   \n",
       "1                   0.24                 0.09                     0.24   \n",
       "2                   0.50                 0.17                     0.45   \n",
       "3                   0.15                 0.03                     0.15   \n",
       "4                   0.80                 0.33                     0.65   \n",
       "\n",
       "   Matches  League     Team  MP  \n",
       "0  Matches     EPL  Arsenal NaN  \n",
       "1  Matches     EPL  Arsenal NaN  \n",
       "2  Matches     EPL  Arsenal NaN  \n",
       "3  Matches     EPL  Arsenal NaN  \n",
       "4  Matches     EPL  Arsenal NaN  \n",
       "\n",
       "[5 rows x 37 columns]"
      ]
     },
     "execution_count": 73,
     "metadata": {},
     "output_type": "execute_result"
    }
   ],
   "source": [
    "df = pd.read_csv(\"2023-2024/combined_players_stats.csv\")\n",
    "\n",
    "df.head()"
   ]
  },
  {
   "cell_type": "code",
   "execution_count": 74,
   "metadata": {},
   "outputs": [
    {
     "data": {
      "text/plain": [
       "Index(['Player', 'Nation', 'Pos', 'Age', 'Playing Time MP',\n",
       "       'Playing Time Starts', 'Playing Time Min', 'Playing Time 90s',\n",
       "       'Performance Gls', 'Performance Ast', 'Performance G+A',\n",
       "       'Performance G-PK', 'Performance PK', 'Performance PKatt',\n",
       "       'Performance CrdY', 'Performance CrdR', 'Expected xG', 'Expected npxG',\n",
       "       'Expected xAG', 'Expected npxG+xAG', 'Progression PrgC',\n",
       "       'Progression PrgP', 'Progression PrgR', 'Per 90 Minutes Gls',\n",
       "       'Per 90 Minutes Ast', 'Per 90 Minutes G+A', 'Per 90 Minutes G-PK',\n",
       "       'Per 90 Minutes G+A-PK', 'Per 90 Minutes xG', 'Per 90 Minutes xAG',\n",
       "       'Per 90 Minutes xG+xAG', 'Per 90 Minutes npxG',\n",
       "       'Per 90 Minutes npxG+xAG', 'Matches', 'League', 'Team', 'MP'],\n",
       "      dtype='object')"
      ]
     },
     "execution_count": 74,
     "metadata": {},
     "output_type": "execute_result"
    }
   ],
   "source": [
    "df.keys()"
   ]
  },
  {
   "cell_type": "code",
   "execution_count": 75,
   "metadata": {},
   "outputs": [],
   "source": [
    "df['Playing Time 90s'] = pd.to_numeric(df['Playing Time 90s'], errors='coerce')\n",
    "matches = 12.0\n",
    "df = df[df['Playing Time 90s'] >= matches]"
   ]
  },
  {
   "cell_type": "code",
   "execution_count": 76,
   "metadata": {},
   "outputs": [],
   "source": [
    "top_players = {}\n",
    "\n",
    "# List of statistics columns to evaluate\n",
    "stats_columns = ['Performance Gls', 'Expected xG', 'Per 90 Minutes Gls', 'Per 90 Minutes npxG+xAG', 'Progression PrgP']\n",
    "\n",
    "for col in stats_columns:\n",
    "    df[col] = pd.to_numeric(df[col], errors='coerce')\n",
    "\n",
    "for stat in stats_columns:\n",
    "    top_players[stat] = df.nlargest(5, stat)[['Player', stat]]"
   ]
  },
  {
   "cell_type": "code",
   "execution_count": 77,
   "metadata": {},
   "outputs": [
    {
     "data": {
      "text/html": [
       "<pre style=\"white-space:pre;overflow-x:auto;line-height:normal;font-family:Menlo,'DejaVu Sans Mono',consolas,'Courier New',monospace\">Top <span style=\"color: #008080; text-decoration-color: #008080; font-weight: bold\">5</span> players for Performance Gls:\n",
       "</pre>\n"
      ],
      "text/plain": [
       "Top \u001b[1;36m5\u001b[0m players for Performance Gls:\n"
      ]
     },
     "metadata": {},
     "output_type": "display_data"
    },
    {
     "data": {
      "text/html": [
       "<pre style=\"white-space:pre;overflow-x:auto;line-height:normal;font-family:Menlo,'DejaVu Sans Mono',consolas,'Courier New',monospace\">                Player  Performance Gls\n",
       "<span style=\"color: #008080; text-decoration-color: #008080; font-weight: bold\">1636</span>        Harry Kane             <span style=\"color: #008080; text-decoration-color: #008080; font-weight: bold\">36.0</span>\n",
       "<span style=\"color: #008080; text-decoration-color: #008080; font-weight: bold\">2029</span>   Serhou Guirassy             <span style=\"color: #008080; text-decoration-color: #008080; font-weight: bold\">28.0</span>\n",
       "<span style=\"color: #008080; text-decoration-color: #008080; font-weight: bold\">452</span>     Erling Haaland             <span style=\"color: #008080; text-decoration-color: #008080; font-weight: bold\">27.0</span>\n",
       "<span style=\"color: #008080; text-decoration-color: #008080; font-weight: bold\">2634</span>     Kylian Mbappé             <span style=\"color: #008080; text-decoration-color: #008080; font-weight: bold\">27.0</span>\n",
       "<span style=\"color: #008080; text-decoration-color: #008080; font-weight: bold\">1106</span>  Lautaro Martínez             <span style=\"color: #008080; text-decoration-color: #008080; font-weight: bold\">24.0</span>\n",
       "</pre>\n"
      ],
      "text/plain": [
       "                Player  Performance Gls\n",
       "\u001b[1;36m1636\u001b[0m        Harry Kane             \u001b[1;36m36.0\u001b[0m\n",
       "\u001b[1;36m2029\u001b[0m   Serhou Guirassy             \u001b[1;36m28.0\u001b[0m\n",
       "\u001b[1;36m452\u001b[0m     Erling Haaland             \u001b[1;36m27.0\u001b[0m\n",
       "\u001b[1;36m2634\u001b[0m     Kylian Mbappé             \u001b[1;36m27.0\u001b[0m\n",
       "\u001b[1;36m1106\u001b[0m  Lautaro Martínez             \u001b[1;36m24.0\u001b[0m\n"
      ]
     },
     "metadata": {},
     "output_type": "display_data"
    },
    {
     "name": "stdout",
     "output_type": "stream",
     "text": [
      "\n",
      "\n"
     ]
    },
    {
     "data": {
      "text/html": [
       "<pre style=\"white-space:pre;overflow-x:auto;line-height:normal;font-family:Menlo,'DejaVu Sans Mono',consolas,'Courier New',monospace\">Top <span style=\"color: #008080; text-decoration-color: #008080; font-weight: bold\">5</span> players for Expected xG:\n",
       "</pre>\n"
      ],
      "text/plain": [
       "Top \u001b[1;36m5\u001b[0m players for Expected xG:\n"
      ]
     },
     "metadata": {},
     "output_type": "display_data"
    },
    {
     "data": {
      "text/html": [
       "<pre style=\"white-space:pre;overflow-x:auto;line-height:normal;font-family:Menlo,'DejaVu Sans Mono',consolas,'Courier New',monospace\">              Player  Expected xG\n",
       "<span style=\"color: #008080; text-decoration-color: #008080; font-weight: bold\">1636</span>      Harry Kane         <span style=\"color: #008080; text-decoration-color: #008080; font-weight: bold\">30.6</span>\n",
       "<span style=\"color: #008080; text-decoration-color: #008080; font-weight: bold\">452</span>   Erling Haaland         <span style=\"color: #008080; text-decoration-color: #008080; font-weight: bold\">29.2</span>\n",
       "<span style=\"color: #008080; text-decoration-color: #008080; font-weight: bold\">3119</span>    Artem Dovbyk         <span style=\"color: #008080; text-decoration-color: #008080; font-weight: bold\">24.2</span>\n",
       "<span style=\"color: #008080; text-decoration-color: #008080; font-weight: bold\">1991</span>     Loïs Openda         <span style=\"color: #008080; text-decoration-color: #008080; font-weight: bold\">22.1</span>\n",
       "<span style=\"color: #008080; text-decoration-color: #008080; font-weight: bold\">373</span>    Mohamed Salah         <span style=\"color: #008080; text-decoration-color: #008080; font-weight: bold\">21.2</span>\n",
       "</pre>\n"
      ],
      "text/plain": [
       "              Player  Expected xG\n",
       "\u001b[1;36m1636\u001b[0m      Harry Kane         \u001b[1;36m30.6\u001b[0m\n",
       "\u001b[1;36m452\u001b[0m   Erling Haaland         \u001b[1;36m29.2\u001b[0m\n",
       "\u001b[1;36m3119\u001b[0m    Artem Dovbyk         \u001b[1;36m24.2\u001b[0m\n",
       "\u001b[1;36m1991\u001b[0m     Loïs Openda         \u001b[1;36m22.1\u001b[0m\n",
       "\u001b[1;36m373\u001b[0m    Mohamed Salah         \u001b[1;36m21.2\u001b[0m\n"
      ]
     },
     "metadata": {},
     "output_type": "display_data"
    },
    {
     "name": "stdout",
     "output_type": "stream",
     "text": [
      "\n",
      "\n"
     ]
    },
    {
     "data": {
      "text/html": [
       "<pre style=\"white-space:pre;overflow-x:auto;line-height:normal;font-family:Menlo,'DejaVu Sans Mono',consolas,'Courier New',monospace\">Top <span style=\"color: #008080; text-decoration-color: #008080; font-weight: bold\">5</span> players for Per <span style=\"color: #008080; text-decoration-color: #008080; font-weight: bold\">90</span> Minutes Gls:\n",
       "</pre>\n"
      ],
      "text/plain": [
       "Top \u001b[1;36m5\u001b[0m players for Per \u001b[1;36m90\u001b[0m Minutes Gls:\n"
      ]
     },
     "metadata": {},
     "output_type": "display_data"
    },
    {
     "data": {
      "text/html": [
       "<pre style=\"white-space:pre;overflow-x:auto;line-height:normal;font-family:Menlo,'DejaVu Sans Mono',consolas,'Courier New',monospace\">               Player  Per <span style=\"color: #008080; text-decoration-color: #008080; font-weight: bold\">90</span> Minutes Gls\n",
       "<span style=\"color: #008080; text-decoration-color: #008080; font-weight: bold\">1636</span>       Harry Kane                <span style=\"color: #008080; text-decoration-color: #008080; font-weight: bold\">1.14</span>\n",
       "<span style=\"color: #008080; text-decoration-color: #008080; font-weight: bold\">2029</span>  Serhou Guirassy                <span style=\"color: #008080; text-decoration-color: #008080; font-weight: bold\">1.14</span>\n",
       "<span style=\"color: #008080; text-decoration-color: #008080; font-weight: bold\">2634</span>    Kylian Mbappé                <span style=\"color: #008080; text-decoration-color: #008080; font-weight: bold\">1.13</span>\n",
       "<span style=\"color: #008080; text-decoration-color: #008080; font-weight: bold\">452</span>    Erling Haaland                <span style=\"color: #008080; text-decoration-color: #008080; font-weight: bold\">0.95</span>\n",
       "<span style=\"color: #008080; text-decoration-color: #008080; font-weight: bold\">524</span>    Alexander Isak                <span style=\"color: #008080; text-decoration-color: #008080; font-weight: bold\">0.84</span>\n",
       "</pre>\n"
      ],
      "text/plain": [
       "               Player  Per \u001b[1;36m90\u001b[0m Minutes Gls\n",
       "\u001b[1;36m1636\u001b[0m       Harry Kane                \u001b[1;36m1.14\u001b[0m\n",
       "\u001b[1;36m2029\u001b[0m  Serhou Guirassy                \u001b[1;36m1.14\u001b[0m\n",
       "\u001b[1;36m2634\u001b[0m    Kylian Mbappé                \u001b[1;36m1.13\u001b[0m\n",
       "\u001b[1;36m452\u001b[0m    Erling Haaland                \u001b[1;36m0.95\u001b[0m\n",
       "\u001b[1;36m524\u001b[0m    Alexander Isak                \u001b[1;36m0.84\u001b[0m\n"
      ]
     },
     "metadata": {},
     "output_type": "display_data"
    },
    {
     "name": "stdout",
     "output_type": "stream",
     "text": [
      "\n",
      "\n"
     ]
    },
    {
     "data": {
      "text/html": [
       "<pre style=\"white-space:pre;overflow-x:auto;line-height:normal;font-family:Menlo,'DejaVu Sans Mono',consolas,'Courier New',monospace\">Top <span style=\"color: #008080; text-decoration-color: #008080; font-weight: bold\">5</span> players for Per <span style=\"color: #008080; text-decoration-color: #008080; font-weight: bold\">90</span> Minutes npxG+xAG:\n",
       "</pre>\n"
      ],
      "text/plain": [
       "Top \u001b[1;36m5\u001b[0m players for Per \u001b[1;36m90\u001b[0m Minutes npxG+xAG:\n"
      ]
     },
     "metadata": {},
     "output_type": "display_data"
    },
    {
     "data": {
      "text/html": [
       "<pre style=\"white-space:pre;overflow-x:auto;line-height:normal;font-family:Menlo,'DejaVu Sans Mono',consolas,'Courier New',monospace\">               Player  Per <span style=\"color: #008080; text-decoration-color: #008080; font-weight: bold\">90</span> Minutes npxG+xAG\n",
       "<span style=\"color: #008080; text-decoration-color: #008080; font-weight: bold\">1636</span>       Harry Kane                     <span style=\"color: #008080; text-decoration-color: #008080; font-weight: bold\">1.05</span>\n",
       "<span style=\"color: #008080; text-decoration-color: #008080; font-weight: bold\">459</span>   Kevin De Bruyne                     <span style=\"color: #008080; text-decoration-color: #008080; font-weight: bold\">1.03</span>\n",
       "<span style=\"color: #008080; text-decoration-color: #008080; font-weight: bold\">2029</span>  Serhou Guirassy                     <span style=\"color: #008080; text-decoration-color: #008080; font-weight: bold\">0.99</span>\n",
       "<span style=\"color: #008080; text-decoration-color: #008080; font-weight: bold\">373</span>     Mohamed Salah                     <span style=\"color: #008080; text-decoration-color: #008080; font-weight: bold\">0.97</span>\n",
       "<span style=\"color: #008080; text-decoration-color: #008080; font-weight: bold\">452</span>    Erling Haaland                     <span style=\"color: #008080; text-decoration-color: #008080; font-weight: bold\">0.96</span>\n",
       "</pre>\n"
      ],
      "text/plain": [
       "               Player  Per \u001b[1;36m90\u001b[0m Minutes npxG+xAG\n",
       "\u001b[1;36m1636\u001b[0m       Harry Kane                     \u001b[1;36m1.05\u001b[0m\n",
       "\u001b[1;36m459\u001b[0m   Kevin De Bruyne                     \u001b[1;36m1.03\u001b[0m\n",
       "\u001b[1;36m2029\u001b[0m  Serhou Guirassy                     \u001b[1;36m0.99\u001b[0m\n",
       "\u001b[1;36m373\u001b[0m     Mohamed Salah                     \u001b[1;36m0.97\u001b[0m\n",
       "\u001b[1;36m452\u001b[0m    Erling Haaland                     \u001b[1;36m0.96\u001b[0m\n"
      ]
     },
     "metadata": {},
     "output_type": "display_data"
    },
    {
     "name": "stdout",
     "output_type": "stream",
     "text": [
      "\n",
      "\n"
     ]
    },
    {
     "data": {
      "text/html": [
       "<pre style=\"white-space:pre;overflow-x:auto;line-height:normal;font-family:Menlo,'DejaVu Sans Mono',consolas,'Courier New',monospace\">Top <span style=\"color: #008080; text-decoration-color: #008080; font-weight: bold\">5</span> players for Progression PrgP:\n",
       "</pre>\n"
      ],
      "text/plain": [
       "Top \u001b[1;36m5\u001b[0m players for Progression PrgP:\n"
      ]
     },
     "metadata": {},
     "output_type": "display_data"
    },
    {
     "data": {
      "text/html": [
       "<pre style=\"white-space:pre;overflow-x:auto;line-height:normal;font-family:Menlo,'DejaVu Sans Mono',consolas,'Courier New',monospace\">                   Player  Progression PrgP\n",
       "<span style=\"color: #008080; text-decoration-color: #008080; font-weight: bold\">1608</span>         Granit Xhaka             <span style=\"color: #008080; text-decoration-color: #008080; font-weight: bold\">392.0</span>\n",
       "<span style=\"color: #008080; text-decoration-color: #008080; font-weight: bold\">446</span>                 Rodri             <span style=\"color: #008080; text-decoration-color: #008080; font-weight: bold\">376.0</span>\n",
       "<span style=\"color: #008080; text-decoration-color: #008080; font-weight: bold\">2</span>         Martin Ødegaard             <span style=\"color: #008080; text-decoration-color: #008080; font-weight: bold\">344.0</span>\n",
       "<span style=\"color: #008080; text-decoration-color: #008080; font-weight: bold\">1328</span>  Giovanni Di Lorenzo             <span style=\"color: #008080; text-decoration-color: #008080; font-weight: bold\">304.0</span>\n",
       "<span style=\"color: #008080; text-decoration-color: #008080; font-weight: bold\">147</span>           Pascal Groß             <span style=\"color: #008080; text-decoration-color: #008080; font-weight: bold\">302.0</span>\n",
       "</pre>\n"
      ],
      "text/plain": [
       "                   Player  Progression PrgP\n",
       "\u001b[1;36m1608\u001b[0m         Granit Xhaka             \u001b[1;36m392.0\u001b[0m\n",
       "\u001b[1;36m446\u001b[0m                 Rodri             \u001b[1;36m376.0\u001b[0m\n",
       "\u001b[1;36m2\u001b[0m         Martin Ødegaard             \u001b[1;36m344.0\u001b[0m\n",
       "\u001b[1;36m1328\u001b[0m  Giovanni Di Lorenzo             \u001b[1;36m304.0\u001b[0m\n",
       "\u001b[1;36m147\u001b[0m           Pascal Groß             \u001b[1;36m302.0\u001b[0m\n"
      ]
     },
     "metadata": {},
     "output_type": "display_data"
    },
    {
     "name": "stdout",
     "output_type": "stream",
     "text": [
      "\n",
      "\n"
     ]
    }
   ],
   "source": [
    "for stat, players in top_players.items():\n",
    "    rich.print(f\"Top 5 players for {stat}:\")\n",
    "    rich.print(players)\n",
    "    print(\"\\n\")"
   ]
  },
  {
   "cell_type": "code",
   "execution_count": 78,
   "metadata": {},
   "outputs": [],
   "source": [
    "def analize(path_file: str, variables: list, matches_played: float, top_n_players: int):\n",
    "    \"\"\"\n",
    "    Analyzes player statistics from a specific league and compares them to the top players across Europe.\n",
    "\n",
    "    Parameters:\n",
    "    - path_file (str): Path to the CSV file containing player statistics for the specific league.\n",
    "    - variables (list): List of statistical variables to analyze (e.g., ['Goals', 'Assists', 'Shots']).\n",
    "    - matches_played (float): Minimum number of matches played (in 90-minute equivalents) to consider a player.\n",
    "    - top_n_players (int): Number of top players to return for each statistical variable.\n",
    "\n",
    "    Returns:\n",
    "    - tuple: A tuple containing:\n",
    "        - str: A title for the best players of the league.\n",
    "        - dict: A dictionary where keys are the statistical variables and values are DataFrames of the top players \n",
    "                in the league for each variable.\n",
    "        - str: A title for the best players in Europe.\n",
    "        - dict: A dictionary where keys are the statistical variables and values are DataFrames of the top players \n",
    "                across Europe for each variable.\n",
    "    \"\"\"\n",
    "    df = pd.read_csv(path_file)\n",
    "    df['Playing Time 90s'] = pd.to_numeric(df['Playing Time 90s'], errors='coerce')\n",
    "    df = df[df['Playing Time 90s'] >= matches_played]\n",
    "\n",
    "    df_top_players = pd.read_csv(\"2023-2024/combined_players_stats.csv\")\n",
    "    df_top_players['Playing Time 90s'] = pd.to_numeric(df_top_players['Playing Time 90s'], errors='coerce')\n",
    "    df_top_players = df_top_players[df_top_players['Playing Time 90s'] >= matches_played]\n",
    "    \n",
    "    top_players = {}\n",
    "    top_players_5_leagues = {}\n",
    "\n",
    "    for col in variables:\n",
    "        df[col] = pd.to_numeric(df[col], errors='coerce')\n",
    "        df_top_players[col] = pd.to_numeric(df_top_players[col], errors='coerce')\n",
    "    \n",
    "    for stat in variables:\n",
    "        top_players[stat] = df.nlargest(5, stat)[['Player', stat]]\n",
    "        top_players_5_leagues[stat] = df_top_players.nlargest(top_n_players, stat)[['Player', stat]]\n",
    "\n",
    "    return \"Best players of the league\", top_players, \"Best players in Europe\", top_players_5_leagues"
   ]
  },
  {
   "cell_type": "code",
   "execution_count": 79,
   "metadata": {},
   "outputs": [
    {
     "data": {
      "text/html": [
       "<pre style=\"white-space:pre;overflow-x:auto;line-height:normal;font-family:Menlo,'DejaVu Sans Mono',consolas,'Courier New',monospace\"><span style=\"font-weight: bold\">(</span>\n",
       "    <span style=\"color: #008000; text-decoration-color: #008000\">'Best players of the league'</span>,\n",
       "    <span style=\"font-weight: bold\">{</span>\n",
       "        <span style=\"color: #008000; text-decoration-color: #008000\">'Performance Gls'</span>:                 Player  Performance Gls\n",
       "<span style=\"color: #008080; text-decoration-color: #008080; font-weight: bold\">78</span>   Vangelis Pavlidis             <span style=\"color: #008080; text-decoration-color: #008080; font-weight: bold\">29.0</span>\n",
       "<span style=\"color: #008080; text-decoration-color: #008080; font-weight: bold\">350</span>       Luuk de Jong             <span style=\"color: #008080; text-decoration-color: #008080; font-weight: bold\">29.0</span>\n",
       "<span style=\"color: #008080; text-decoration-color: #008080; font-weight: bold\">156</span>   Santiago Giménez             <span style=\"color: #008080; text-decoration-color: #008080; font-weight: bold\">23.0</span>\n",
       "<span style=\"color: #008080; text-decoration-color: #008080; font-weight: bold\">2</span>        Brian Brobbey             <span style=\"color: #008080; text-decoration-color: #008080; font-weight: bold\">18.0</span>\n",
       "<span style=\"color: #008080; text-decoration-color: #008080; font-weight: bold\">452</span>         Sem Steijn             <span style=\"color: #008080; text-decoration-color: #008080; font-weight: bold\">17.0</span>,\n",
       "        <span style=\"color: #008000; text-decoration-color: #008000\">'Expected xG'</span>:                 Player  Expected xG\n",
       "<span style=\"color: #008080; text-decoration-color: #008080; font-weight: bold\">350</span>       Luuk de Jong         <span style=\"color: #008080; text-decoration-color: #008080; font-weight: bold\">27.8</span>\n",
       "<span style=\"color: #008080; text-decoration-color: #008080; font-weight: bold\">78</span>   Vangelis Pavlidis         <span style=\"color: #008080; text-decoration-color: #008080; font-weight: bold\">23.8</span>\n",
       "<span style=\"color: #008080; text-decoration-color: #008080; font-weight: bold\">156</span>   Santiago Giménez         <span style=\"color: #008080; text-decoration-color: #008080; font-weight: bold\">22.8</span>\n",
       "<span style=\"color: #008080; text-decoration-color: #008080; font-weight: bold\">2</span>        Brian Brobbey         <span style=\"color: #008080; text-decoration-color: #008080; font-weight: bold\">19.8</span>\n",
       "<span style=\"color: #008080; text-decoration-color: #008080; font-weight: bold\">413</span>   Tobias Lauritsen         <span style=\"color: #008080; text-decoration-color: #008080; font-weight: bold\">12.9</span>,\n",
       "        <span style=\"color: #008000; text-decoration-color: #008000\">'Per 90 Minutes Gls'</span>:                     Player  Per <span style=\"color: #008080; text-decoration-color: #008080; font-weight: bold\">90</span> Minutes Gls\n",
       "<span style=\"color: #008080; text-decoration-color: #008080; font-weight: bold\">350</span>           Luuk de Jong                <span style=\"color: #008080; text-decoration-color: #008080; font-weight: bold\">0.95</span>\n",
       "<span style=\"color: #008080; text-decoration-color: #008080; font-weight: bold\">78</span>       Vangelis Pavlidis                <span style=\"color: #008080; text-decoration-color: #008080; font-weight: bold\">0.87</span>\n",
       "<span style=\"color: #008080; text-decoration-color: #008080; font-weight: bold\">156</span>       Santiago Giménez                <span style=\"color: #008080; text-decoration-color: #008080; font-weight: bold\">0.87</span>\n",
       "<span style=\"color: #008080; text-decoration-color: #008080; font-weight: bold\">460</span>  Ricky van Wolfswinkel                <span style=\"color: #008080; text-decoration-color: #008080; font-weight: bold\">0.76</span>\n",
       "<span style=\"color: #008080; text-decoration-color: #008080; font-weight: bold\">293</span>          Jizz Hornkamp                <span style=\"color: #008080; text-decoration-color: #008080; font-weight: bold\">0.70</span>,\n",
       "        <span style=\"color: #008000; text-decoration-color: #008000\">'Per 90 Minutes npxG+xAG'</span>:                 Player  Per <span style=\"color: #008080; text-decoration-color: #008080; font-weight: bold\">90</span> Minutes npxG+xAG\n",
       "<span style=\"color: #008080; text-decoration-color: #008080; font-weight: bold\">350</span>       Luuk de Jong                     <span style=\"color: #008080; text-decoration-color: #008080; font-weight: bold\">1.02</span>\n",
       "<span style=\"color: #008080; text-decoration-color: #008080; font-weight: bold\">2</span>        Brian Brobbey                     <span style=\"color: #008080; text-decoration-color: #008080; font-weight: bold\">0.95</span>\n",
       "<span style=\"color: #008080; text-decoration-color: #008080; font-weight: bold\">156</span>   Santiago Giménez                     <span style=\"color: #008080; text-decoration-color: #008080; font-weight: bold\">0.93</span>\n",
       "<span style=\"color: #008080; text-decoration-color: #008080; font-weight: bold\">78</span>   Vangelis Pavlidis                     <span style=\"color: #008080; text-decoration-color: #008080; font-weight: bold\">0.88</span>\n",
       "<span style=\"color: #008080; text-decoration-color: #008080; font-weight: bold\">162</span>     Yankuba Minteh                     <span style=\"color: #008080; text-decoration-color: #008080; font-weight: bold\">0.87</span>,\n",
       "        <span style=\"color: #008000; text-decoration-color: #008000\">'Progression PrgP'</span>:                    Player  Progression PrgP\n",
       "<span style=\"color: #008080; text-decoration-color: #008080; font-weight: bold\">352</span>      Olivier Boscagli             <span style=\"color: #008080; text-decoration-color: #008080; font-weight: bold\">374.0</span>\n",
       "<span style=\"color: #008080; text-decoration-color: #008080; font-weight: bold\">357</span>          Joey Veerman             <span style=\"color: #008080; text-decoration-color: #008080; font-weight: bold\">314.0</span>\n",
       "<span style=\"color: #008080; text-decoration-color: #008080; font-weight: bold\">153</span>          Dávid Hancko             <span style=\"color: #008080; text-decoration-color: #008080; font-weight: bold\">272.0</span>\n",
       "<span style=\"color: #008080; text-decoration-color: #008080; font-weight: bold\">152</span>  Lutsharel Geertruida             <span style=\"color: #008080; text-decoration-color: #008080; font-weight: bold\">268.0</span>\n",
       "<span style=\"color: #008080; text-decoration-color: #008080; font-weight: bold\">256</span>             Thom Haye             <span style=\"color: #008080; text-decoration-color: #008080; font-weight: bold\">241.0</span>\n",
       "    <span style=\"font-weight: bold\">}</span>,\n",
       "    <span style=\"color: #008000; text-decoration-color: #008000\">'Best players in Europe'</span>,\n",
       "    <span style=\"font-weight: bold\">{</span>\n",
       "        <span style=\"color: #008000; text-decoration-color: #008000\">'Performance Gls'</span>:                 Player  Performance Gls\n",
       "<span style=\"color: #008080; text-decoration-color: #008080; font-weight: bold\">1636</span>        Harry Kane             <span style=\"color: #008080; text-decoration-color: #008080; font-weight: bold\">36.0</span>\n",
       "<span style=\"color: #008080; text-decoration-color: #008080; font-weight: bold\">2029</span>   Serhou Guirassy             <span style=\"color: #008080; text-decoration-color: #008080; font-weight: bold\">28.0</span>\n",
       "<span style=\"color: #008080; text-decoration-color: #008080; font-weight: bold\">452</span>     Erling Haaland             <span style=\"color: #008080; text-decoration-color: #008080; font-weight: bold\">27.0</span>\n",
       "<span style=\"color: #008080; text-decoration-color: #008080; font-weight: bold\">2634</span>     Kylian Mbappé             <span style=\"color: #008080; text-decoration-color: #008080; font-weight: bold\">27.0</span>\n",
       "<span style=\"color: #008080; text-decoration-color: #008080; font-weight: bold\">1106</span>  Lautaro Martínez             <span style=\"color: #008080; text-decoration-color: #008080; font-weight: bold\">24.0</span>,\n",
       "        <span style=\"color: #008000; text-decoration-color: #008000\">'Expected xG'</span>:               Player  Expected xG\n",
       "<span style=\"color: #008080; text-decoration-color: #008080; font-weight: bold\">1636</span>      Harry Kane         <span style=\"color: #008080; text-decoration-color: #008080; font-weight: bold\">30.6</span>\n",
       "<span style=\"color: #008080; text-decoration-color: #008080; font-weight: bold\">452</span>   Erling Haaland         <span style=\"color: #008080; text-decoration-color: #008080; font-weight: bold\">29.2</span>\n",
       "<span style=\"color: #008080; text-decoration-color: #008080; font-weight: bold\">3119</span>    Artem Dovbyk         <span style=\"color: #008080; text-decoration-color: #008080; font-weight: bold\">24.2</span>\n",
       "<span style=\"color: #008080; text-decoration-color: #008080; font-weight: bold\">1991</span>     Loïs Openda         <span style=\"color: #008080; text-decoration-color: #008080; font-weight: bold\">22.1</span>\n",
       "<span style=\"color: #008080; text-decoration-color: #008080; font-weight: bold\">373</span>    Mohamed Salah         <span style=\"color: #008080; text-decoration-color: #008080; font-weight: bold\">21.2</span>,\n",
       "        <span style=\"color: #008000; text-decoration-color: #008000\">'Per 90 Minutes Gls'</span>:                Player  Per <span style=\"color: #008080; text-decoration-color: #008080; font-weight: bold\">90</span> Minutes Gls\n",
       "<span style=\"color: #008080; text-decoration-color: #008080; font-weight: bold\">1636</span>       Harry Kane                <span style=\"color: #008080; text-decoration-color: #008080; font-weight: bold\">1.14</span>\n",
       "<span style=\"color: #008080; text-decoration-color: #008080; font-weight: bold\">2029</span>  Serhou Guirassy                <span style=\"color: #008080; text-decoration-color: #008080; font-weight: bold\">1.14</span>\n",
       "<span style=\"color: #008080; text-decoration-color: #008080; font-weight: bold\">2634</span>    Kylian Mbappé                <span style=\"color: #008080; text-decoration-color: #008080; font-weight: bold\">1.13</span>\n",
       "<span style=\"color: #008080; text-decoration-color: #008080; font-weight: bold\">452</span>    Erling Haaland                <span style=\"color: #008080; text-decoration-color: #008080; font-weight: bold\">0.95</span>\n",
       "<span style=\"color: #008080; text-decoration-color: #008080; font-weight: bold\">524</span>    Alexander Isak                <span style=\"color: #008080; text-decoration-color: #008080; font-weight: bold\">0.84</span>,\n",
       "        <span style=\"color: #008000; text-decoration-color: #008000\">'Per 90 Minutes npxG+xAG'</span>:                Player  Per <span style=\"color: #008080; text-decoration-color: #008080; font-weight: bold\">90</span> Minutes npxG+xAG\n",
       "<span style=\"color: #008080; text-decoration-color: #008080; font-weight: bold\">1636</span>       Harry Kane                     <span style=\"color: #008080; text-decoration-color: #008080; font-weight: bold\">1.05</span>\n",
       "<span style=\"color: #008080; text-decoration-color: #008080; font-weight: bold\">459</span>   Kevin De Bruyne                     <span style=\"color: #008080; text-decoration-color: #008080; font-weight: bold\">1.03</span>\n",
       "<span style=\"color: #008080; text-decoration-color: #008080; font-weight: bold\">2029</span>  Serhou Guirassy                     <span style=\"color: #008080; text-decoration-color: #008080; font-weight: bold\">0.99</span>\n",
       "<span style=\"color: #008080; text-decoration-color: #008080; font-weight: bold\">373</span>     Mohamed Salah                     <span style=\"color: #008080; text-decoration-color: #008080; font-weight: bold\">0.97</span>\n",
       "<span style=\"color: #008080; text-decoration-color: #008080; font-weight: bold\">452</span>    Erling Haaland                     <span style=\"color: #008080; text-decoration-color: #008080; font-weight: bold\">0.96</span>,\n",
       "        <span style=\"color: #008000; text-decoration-color: #008000\">'Progression PrgP'</span>:                    Player  Progression PrgP\n",
       "<span style=\"color: #008080; text-decoration-color: #008080; font-weight: bold\">1608</span>         Granit Xhaka             <span style=\"color: #008080; text-decoration-color: #008080; font-weight: bold\">392.0</span>\n",
       "<span style=\"color: #008080; text-decoration-color: #008080; font-weight: bold\">446</span>                 Rodri             <span style=\"color: #008080; text-decoration-color: #008080; font-weight: bold\">376.0</span>\n",
       "<span style=\"color: #008080; text-decoration-color: #008080; font-weight: bold\">2</span>         Martin Ødegaard             <span style=\"color: #008080; text-decoration-color: #008080; font-weight: bold\">344.0</span>\n",
       "<span style=\"color: #008080; text-decoration-color: #008080; font-weight: bold\">1328</span>  Giovanni Di Lorenzo             <span style=\"color: #008080; text-decoration-color: #008080; font-weight: bold\">304.0</span>\n",
       "<span style=\"color: #008080; text-decoration-color: #008080; font-weight: bold\">147</span>           Pascal Groß             <span style=\"color: #008080; text-decoration-color: #008080; font-weight: bold\">302.0</span>\n",
       "    <span style=\"font-weight: bold\">}</span>\n",
       "<span style=\"font-weight: bold\">)</span>\n",
       "</pre>\n"
      ],
      "text/plain": [
       "\u001b[1m(\u001b[0m\n",
       "    \u001b[32m'Best players of the league'\u001b[0m,\n",
       "    \u001b[1m{\u001b[0m\n",
       "        \u001b[32m'Performance Gls'\u001b[0m:                 Player  Performance Gls\n",
       "\u001b[1;36m78\u001b[0m   Vangelis Pavlidis             \u001b[1;36m29.0\u001b[0m\n",
       "\u001b[1;36m350\u001b[0m       Luuk de Jong             \u001b[1;36m29.0\u001b[0m\n",
       "\u001b[1;36m156\u001b[0m   Santiago Giménez             \u001b[1;36m23.0\u001b[0m\n",
       "\u001b[1;36m2\u001b[0m        Brian Brobbey             \u001b[1;36m18.0\u001b[0m\n",
       "\u001b[1;36m452\u001b[0m         Sem Steijn             \u001b[1;36m17.0\u001b[0m,\n",
       "        \u001b[32m'Expected xG'\u001b[0m:                 Player  Expected xG\n",
       "\u001b[1;36m350\u001b[0m       Luuk de Jong         \u001b[1;36m27.8\u001b[0m\n",
       "\u001b[1;36m78\u001b[0m   Vangelis Pavlidis         \u001b[1;36m23.8\u001b[0m\n",
       "\u001b[1;36m156\u001b[0m   Santiago Giménez         \u001b[1;36m22.8\u001b[0m\n",
       "\u001b[1;36m2\u001b[0m        Brian Brobbey         \u001b[1;36m19.8\u001b[0m\n",
       "\u001b[1;36m413\u001b[0m   Tobias Lauritsen         \u001b[1;36m12.9\u001b[0m,\n",
       "        \u001b[32m'Per 90 Minutes Gls'\u001b[0m:                     Player  Per \u001b[1;36m90\u001b[0m Minutes Gls\n",
       "\u001b[1;36m350\u001b[0m           Luuk de Jong                \u001b[1;36m0.95\u001b[0m\n",
       "\u001b[1;36m78\u001b[0m       Vangelis Pavlidis                \u001b[1;36m0.87\u001b[0m\n",
       "\u001b[1;36m156\u001b[0m       Santiago Giménez                \u001b[1;36m0.87\u001b[0m\n",
       "\u001b[1;36m460\u001b[0m  Ricky van Wolfswinkel                \u001b[1;36m0.76\u001b[0m\n",
       "\u001b[1;36m293\u001b[0m          Jizz Hornkamp                \u001b[1;36m0.70\u001b[0m,\n",
       "        \u001b[32m'Per 90 Minutes npxG+xAG'\u001b[0m:                 Player  Per \u001b[1;36m90\u001b[0m Minutes npxG+xAG\n",
       "\u001b[1;36m350\u001b[0m       Luuk de Jong                     \u001b[1;36m1.02\u001b[0m\n",
       "\u001b[1;36m2\u001b[0m        Brian Brobbey                     \u001b[1;36m0.95\u001b[0m\n",
       "\u001b[1;36m156\u001b[0m   Santiago Giménez                     \u001b[1;36m0.93\u001b[0m\n",
       "\u001b[1;36m78\u001b[0m   Vangelis Pavlidis                     \u001b[1;36m0.88\u001b[0m\n",
       "\u001b[1;36m162\u001b[0m     Yankuba Minteh                     \u001b[1;36m0.87\u001b[0m,\n",
       "        \u001b[32m'Progression PrgP'\u001b[0m:                    Player  Progression PrgP\n",
       "\u001b[1;36m352\u001b[0m      Olivier Boscagli             \u001b[1;36m374.0\u001b[0m\n",
       "\u001b[1;36m357\u001b[0m          Joey Veerman             \u001b[1;36m314.0\u001b[0m\n",
       "\u001b[1;36m153\u001b[0m          Dávid Hancko             \u001b[1;36m272.0\u001b[0m\n",
       "\u001b[1;36m152\u001b[0m  Lutsharel Geertruida             \u001b[1;36m268.0\u001b[0m\n",
       "\u001b[1;36m256\u001b[0m             Thom Haye             \u001b[1;36m241.0\u001b[0m\n",
       "    \u001b[1m}\u001b[0m,\n",
       "    \u001b[32m'Best players in Europe'\u001b[0m,\n",
       "    \u001b[1m{\u001b[0m\n",
       "        \u001b[32m'Performance Gls'\u001b[0m:                 Player  Performance Gls\n",
       "\u001b[1;36m1636\u001b[0m        Harry Kane             \u001b[1;36m36.0\u001b[0m\n",
       "\u001b[1;36m2029\u001b[0m   Serhou Guirassy             \u001b[1;36m28.0\u001b[0m\n",
       "\u001b[1;36m452\u001b[0m     Erling Haaland             \u001b[1;36m27.0\u001b[0m\n",
       "\u001b[1;36m2634\u001b[0m     Kylian Mbappé             \u001b[1;36m27.0\u001b[0m\n",
       "\u001b[1;36m1106\u001b[0m  Lautaro Martínez             \u001b[1;36m24.0\u001b[0m,\n",
       "        \u001b[32m'Expected xG'\u001b[0m:               Player  Expected xG\n",
       "\u001b[1;36m1636\u001b[0m      Harry Kane         \u001b[1;36m30.6\u001b[0m\n",
       "\u001b[1;36m452\u001b[0m   Erling Haaland         \u001b[1;36m29.2\u001b[0m\n",
       "\u001b[1;36m3119\u001b[0m    Artem Dovbyk         \u001b[1;36m24.2\u001b[0m\n",
       "\u001b[1;36m1991\u001b[0m     Loïs Openda         \u001b[1;36m22.1\u001b[0m\n",
       "\u001b[1;36m373\u001b[0m    Mohamed Salah         \u001b[1;36m21.2\u001b[0m,\n",
       "        \u001b[32m'Per 90 Minutes Gls'\u001b[0m:                Player  Per \u001b[1;36m90\u001b[0m Minutes Gls\n",
       "\u001b[1;36m1636\u001b[0m       Harry Kane                \u001b[1;36m1.14\u001b[0m\n",
       "\u001b[1;36m2029\u001b[0m  Serhou Guirassy                \u001b[1;36m1.14\u001b[0m\n",
       "\u001b[1;36m2634\u001b[0m    Kylian Mbappé                \u001b[1;36m1.13\u001b[0m\n",
       "\u001b[1;36m452\u001b[0m    Erling Haaland                \u001b[1;36m0.95\u001b[0m\n",
       "\u001b[1;36m524\u001b[0m    Alexander Isak                \u001b[1;36m0.84\u001b[0m,\n",
       "        \u001b[32m'Per 90 Minutes npxG+xAG'\u001b[0m:                Player  Per \u001b[1;36m90\u001b[0m Minutes npxG+xAG\n",
       "\u001b[1;36m1636\u001b[0m       Harry Kane                     \u001b[1;36m1.05\u001b[0m\n",
       "\u001b[1;36m459\u001b[0m   Kevin De Bruyne                     \u001b[1;36m1.03\u001b[0m\n",
       "\u001b[1;36m2029\u001b[0m  Serhou Guirassy                     \u001b[1;36m0.99\u001b[0m\n",
       "\u001b[1;36m373\u001b[0m     Mohamed Salah                     \u001b[1;36m0.97\u001b[0m\n",
       "\u001b[1;36m452\u001b[0m    Erling Haaland                     \u001b[1;36m0.96\u001b[0m,\n",
       "        \u001b[32m'Progression PrgP'\u001b[0m:                    Player  Progression PrgP\n",
       "\u001b[1;36m1608\u001b[0m         Granit Xhaka             \u001b[1;36m392.0\u001b[0m\n",
       "\u001b[1;36m446\u001b[0m                 Rodri             \u001b[1;36m376.0\u001b[0m\n",
       "\u001b[1;36m2\u001b[0m         Martin Ødegaard             \u001b[1;36m344.0\u001b[0m\n",
       "\u001b[1;36m1328\u001b[0m  Giovanni Di Lorenzo             \u001b[1;36m304.0\u001b[0m\n",
       "\u001b[1;36m147\u001b[0m           Pascal Groß             \u001b[1;36m302.0\u001b[0m\n",
       "    \u001b[1m}\u001b[0m\n",
       "\u001b[1m)\u001b[0m\n"
      ]
     },
     "metadata": {},
     "output_type": "display_data"
    }
   ],
   "source": [
    "stats_columns = ['Performance Gls', 'Expected xG', 'Per 90 Minutes Gls', 'Per 90 Minutes npxG+xAG', 'Progression PrgP']\n",
    "\n",
    "rich.print(analize(\"2023-2024/Eredivise/combined_players_stats_Eredivise.csv\",stats_columns, 12, 5 ))"
   ]
  }
 ],
 "metadata": {
  "kernelspec": {
   "display_name": ".venv",
   "language": "python",
   "name": "python3"
  },
  "language_info": {
   "codemirror_mode": {
    "name": "ipython",
    "version": 3
   },
   "file_extension": ".py",
   "mimetype": "text/x-python",
   "name": "python",
   "nbconvert_exporter": "python",
   "pygments_lexer": "ipython3",
   "version": "3.10.11"
  }
 },
 "nbformat": 4,
 "nbformat_minor": 2
}
